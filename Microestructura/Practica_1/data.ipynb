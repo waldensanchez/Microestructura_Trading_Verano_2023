{
 "cells": [
  {
   "cell_type": "code",
   "execution_count": 1,
   "id": "3550efa3",
   "metadata": {},
   "outputs": [],
   "source": [
    "import pandas as pd\n",
    "import numpy as np"
   ]
  },
  {
   "cell_type": "code",
   "execution_count": 3,
   "id": "8aa66c27",
   "metadata": {},
   "outputs": [],
   "source": [
    "file_name = 'orderbooks_06jun2021.json'\n",
    "data = pd.read_json(file_name)"
   ]
  },
  {
   "cell_type": "code",
   "execution_count": 71,
   "id": "a070189d",
   "metadata": {},
   "outputs": [],
   "source": [
    "orderbooks_ts = list(data['kraken'].index)"
   ]
  },
  {
   "cell_type": "code",
   "execution_count": 54,
   "id": "9dff9536",
   "metadata": {},
   "outputs": [],
   "source": [
    "spreads = [np.round(clean_obs[i]['ask']['0'] - clean_obs[i]['bid']['0'],6) for i in range(len(clean_obs))]"
   ]
  },
  {
   "cell_type": "code",
   "execution_count": 58,
   "id": "b6c5500d",
   "metadata": {},
   "outputs": [],
   "source": [
    "mid = [np.round((clean_obs[i]['ask']['0'] + clean_obs[i]['bid']['0'])/2,6) for i in range(len(clean_obs))]"
   ]
  },
  {
   "cell_type": "code",
   "execution_count": 70,
   "id": "8807a145",
   "metadata": {
    "scrolled": true
   },
   "outputs": [
    {
     "data": {
      "text/plain": [
       "DatetimeIndex(['2021-07-06 18:02:31.524000+00:00',\n",
       "               '2021-07-06 18:02:32.877000+00:00',\n",
       "               '2021-07-06 18:02:34.373000+00:00',\n",
       "               '2021-07-06 18:02:36.037000+00:00',\n",
       "               '2021-07-06 18:02:37.371000+00:00',\n",
       "               '2021-07-06 18:02:38.866000+00:00',\n",
       "               '2021-07-06 18:02:40.525000+00:00',\n",
       "               '2021-07-06 18:02:41.883000+00:00',\n",
       "               '2021-07-06 18:02:43.370000+00:00',\n",
       "               '2021-07-06 18:02:45.045000+00:00',\n",
       "               ...\n",
       "               '2021-07-06 19:02:04.448000+00:00',\n",
       "               '2021-07-06 19:02:07.388000+00:00',\n",
       "               '2021-07-06 19:02:10.459000+00:00',\n",
       "               '2021-07-06 19:02:13.374000+00:00',\n",
       "               '2021-07-06 19:02:16.453000+00:00',\n",
       "               '2021-07-06 19:02:19.362000+00:00',\n",
       "               '2021-07-06 19:02:22.453000+00:00',\n",
       "               '2021-07-06 19:02:25.450000+00:00',\n",
       "               '2021-07-06 19:02:28.364000+00:00',\n",
       "               '2021-07-06 19:02:31.692000+00:00'],\n",
       "              dtype='datetime64[ns, UTC]', length=3600, freq=None)"
      ]
     },
     "execution_count": 70,
     "metadata": {},
     "output_type": "execute_result"
    }
   ],
   "source": [
    "data[data.isnull().any(axis=1)].index"
   ]
  },
  {
   "cell_type": "code",
   "execution_count": 69,
   "id": "d7ebf0bb",
   "metadata": {},
   "outputs": [
    {
     "data": {
      "text/plain": [
       "array([Timedelta('0 days 00:00:01.353000'),\n",
       "       Timedelta('0 days 00:00:01.496000'),\n",
       "       Timedelta('0 days 00:00:01.664000'), ...,\n",
       "       Timedelta('0 days 00:00:02.997000'),\n",
       "       Timedelta('0 days 00:00:02.914000'),\n",
       "       Timedelta('0 days 00:00:03.328000')], dtype=object)"
      ]
     },
     "execution_count": 69,
     "metadata": {},
     "output_type": "execute_result"
    }
   ],
   "source": [
    "np.diff(orderbooks_ts)"
   ]
  }
 ],
 "metadata": {
  "kernelspec": {
   "display_name": "Python 3 (ipykernel)",
   "language": "python",
   "name": "python3"
  },
  "language_info": {
   "codemirror_mode": {
    "name": "ipython",
    "version": 3
   },
   "file_extension": ".py",
   "mimetype": "text/x-python",
   "name": "python",
   "nbconvert_exporter": "python",
   "pygments_lexer": "ipython3",
   "version": "3.10.9"
  }
 },
 "nbformat": 4,
 "nbformat_minor": 5
}
