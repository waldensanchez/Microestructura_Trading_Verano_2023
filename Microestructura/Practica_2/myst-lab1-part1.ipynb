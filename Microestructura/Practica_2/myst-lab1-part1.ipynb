{
 "cells": [
  {
   "cell_type": "markdown",
   "metadata": {},
   "source": [
    "<center><font color=#555555><font size=6> MAF1731 - Microstructure and Trading Systems </font> <br> <br>\n",
    "    \n",
    "<center><font color=#555555><font size=5> B.Eng Financial Engineering </font> <br> <br> <br> <br>\n",
    "   \n",
    "<center> <font color= #555555> <font size = 4> May 2023 </a> | <font color= #555555> <font size = 4> Repository: <a href='https://github.com/'>Link</a></font>"
   ]
  },
  {
   "cell_type": "markdown",
   "metadata": {},
   "source": [
    "<hr style=\"border:0.02in solid gray\"> </hr>"
   ]
  },
  {
   "cell_type": "markdown",
   "metadata": {},
   "source": [
    "<center> <font color= #555555> <font size = 6> Module 1 : Part 1 </font> <br> <br> <font color= #555555> <font size = 5> Market Microstructure of Blockchain-Based Financial Assets (OrderBooks) </font>"
   ]
  },
  {
   "cell_type": "markdown",
   "metadata": {},
   "source": [
    "<hr style=\"border:0.02in solid gray\"> </hr>"
   ]
  },
  {
   "cell_type": "markdown",
   "metadata": {},
   "source": [
    "<br>"
   ]
  },
  {
   "cell_type": "markdown",
   "metadata": {},
   "source": [
    "# <font color= #6B6B6B> <font size = 6> 1. Introduction </font>\n",
    "<hr style=\"border:0.02in solid gray\"> </hr>"
   ]
  },
  {
   "cell_type": "markdown",
   "metadata": {},
   "source": [
    "This notebook is provided as a case of study of Blockchain-Based financial assets, in particular, Bitcoin and Ethereum cryptocurrencies. Data within this notebook was extracted from the Kraken exchange and making use of the ccxt library. "
   ]
  },
  {
   "cell_type": "markdown",
   "metadata": {},
   "source": [
    "<br>"
   ]
  },
  {
   "cell_type": "markdown",
   "metadata": {},
   "source": [
    "# <font color= #6B6B6B> 2. Install/Load Packages and Depedencies </font>\n",
    "<hr style=\"border:0.02in solid gray\"> </hr>"
   ]
  },
  {
   "cell_type": "markdown",
   "metadata": {},
   "source": [
    "<br>"
   ]
  },
  {
   "cell_type": "markdown",
   "metadata": {},
   "source": [
    "## <font color= #6B6B6B> 2.2 Python Packages </font> <font color= #555555>"
   ]
  },
  {
   "cell_type": "markdown",
   "metadata": {},
   "source": [
    "In order to run this notebook, it is necessary to have installed and/or have the _requirements.txt_ file with the following: "
   ]
  },
  {
   "cell_type": "markdown",
   "metadata": {},
   "source": [
    "- pandas==1.3.3 \n",
    "- numpy==1.21.2\n",
    "- jupyter==1.0.0\n",
    "- ccxt==1.59.95"
   ]
  },
  {
   "cell_type": "markdown",
   "metadata": {},
   "source": [
    "## <font color= #6B6B6B> 2.3 Files Dependencies </font> <font color= #555555>"
   ]
  },
  {
   "cell_type": "markdown",
   "metadata": {},
   "source": [
    "The following are the file dependencies that are needed to run this notebook:"
   ]
  },
  {
   "cell_type": "markdown",
   "metadata": {},
   "source": [
    "- Files/orderbooks_05jul21.json : JSON file with Historical Orderbooks Gathered from BitFinex and Kraken for BTC/USDT"
   ]
  },
  {
   "cell_type": "markdown",
   "metadata": {},
   "source": [
    "## <font color= #6E6E6E> 2.3 Install Packages</font>"
   ]
  },
  {
   "cell_type": "code",
   "execution_count": 1,
   "metadata": {},
   "outputs": [],
   "source": [
    "%%capture\n",
    "\n",
    "# Install all the pip packages in the requirements.txt\n",
    "import sys\n",
    "!{sys.executable} -m pip install -r requirements.txt"
   ]
  },
  {
   "cell_type": "markdown",
   "metadata": {},
   "source": [
    "## <font color= #6E6E6E> 2.4 Load Packages</font>"
   ]
  },
  {
   "cell_type": "code",
   "execution_count": 2,
   "metadata": {},
   "outputs": [],
   "source": [
    "# -- Generic\n",
    "import pandas as pd\n",
    "import numpy as np\n",
    "import json\n",
    "\n",
    "# -- Visualization\n",
    "import plotly.graph_objects as go"
   ]
  },
  {
   "cell_type": "markdown",
   "metadata": {},
   "source": [
    "## <font color= #6E6E6E> 2.5 Load Other Scripts </font>"
   ]
  },
  {
   "cell_type": "code",
   "execution_count": 3,
   "metadata": {},
   "outputs": [],
   "source": [
    "# -- Project scripts\n",
    "import visualizations as vs\n",
    "import functions as fn"
   ]
  },
  {
   "cell_type": "markdown",
   "metadata": {},
   "source": [
    "# <font color= #6B6B6B> 3. Read and Visualize Data </font>\n",
    "<hr style=\"border:0.02in solid gray\"> </hr>"
   ]
  },
  {
   "cell_type": "markdown",
   "metadata": {},
   "source": [
    "Historical Orderbook data is stored in a **JSON** formated file, which stands for **J**ava **S**cript **O**bject **N**otation, in practical terms, it is very similar to a python dictionary since it has a list-like structure of storing the data, with one or several keys and each of which can have more keys and or data points.\n",
    "\n",
    "Remember also that a Pandas DataFrame is also in its core form a dictionary where each colum is a key and the column contents are each key contents. So, in a way, a **JSON** file is one option to represent a multidimensional DataFrame. "
   ]
  },
  {
   "cell_type": "markdown",
   "metadata": {},
   "source": [
    "## <font color= #6B6B6B> 3.1 Load and display the data </font>"
   ]
  },
  {
   "cell_type": "markdown",
   "metadata": {},
   "source": [
    "To read the contents of the file is very simple, by using the library *json*, it is a pre-installed one and you do need to import it but its already installed in the python base installation. "
   ]
  },
  {
   "cell_type": "code",
   "execution_count": 4,
   "metadata": {},
   "outputs": [],
   "source": [
    "# Opening JSON file\n",
    "f = open('orderbooks_05jul21.json')\n",
    "\n",
    "# Returns JSON object as a dictionary\n",
    "orderbooks_data = json.load(f)"
   ]
  },
  {
   "cell_type": "markdown",
   "metadata": {},
   "source": [
    "Lets check the contents of the file."
   ]
  },
  {
   "cell_type": "code",
   "execution_count": 5,
   "metadata": {},
   "outputs": [
    {
     "data": {
      "text/plain": [
       "dict_keys(['bitfinex', 'kraken'])"
      ]
     },
     "execution_count": 5,
     "metadata": {},
     "output_type": "execute_result"
    }
   ],
   "source": [
    "orderbooks_data.keys()"
   ]
  },
  {
   "cell_type": "markdown",
   "metadata": {},
   "source": [
    "Allright, we have 2 keys, each of which corresponds to different exchanges where *BTC/USDT* is listed. Lets get store the timestamps of the two in sepparate objects, we will need those for later calculations."
   ]
  },
  {
   "cell_type": "code",
   "execution_count": 6,
   "metadata": {},
   "outputs": [],
   "source": [
    "bitfinex_ts = list(orderbooks_data['bitfinex'].keys())\n",
    "kraken_ts = list(orderbooks_data['kraken'].keys())"
   ]
  },
  {
   "cell_type": "markdown",
   "metadata": {},
   "source": [
    "Now lets see some other info of each of the list, in priciple we are interested in just one for now so this calculation can apply to any of those two. Lets use as an example the data we have from Bitfinex."
   ]
  },
  {
   "cell_type": "markdown",
   "metadata": {},
   "source": [
    "## <font color= #6B6B6B> Q1 : Can you create a function for timestamps comparisson ? (2pt) </font>\n",
    "<hr style=\"border:0.02in solid gray\"> </hr>"
   ]
  },
  {
   "cell_type": "markdown",
   "metadata": {},
   "source": [
    "Inside the functions file, create a function named *f_timestamps_info* with input parameteres *ts_list_o* and *ts_list_d*, and the output must be a *dict* type object with the following keys and content:\n",
    "\n",
    "- *'first_o'* : has the first timestamp of the origin exchange.\n",
    "- *'last_o'* : has the last timestamp of the origin exchange.\n",
    "- *'qty_o'* : has the total amount of timestamps of the origin exchange.\n",
    "- *'first_d'* : has the first timestamp of the destination exchange.\n",
    "- *'last_d'* : has the last timestamp of the destination exchange.\n",
    "- *'qty_d'* : has the total amount of timestamps of the destination exchange.\n",
    "- *'exact_match'* : {'qty': The quantity of timestamps that were **exactly** the same in both origin and destination. *(Leave a 0 if none where present)*, 'values': a list str values of the timestamps that are **exactly** the same in both origin and destination, *(Leave an empty list [] if none where present)*}"
   ]
  },
  {
   "cell_type": "markdown",
   "metadata": {},
   "source": [
    "Place the code for this function in the *functions.py* file and should be callable from the following cell."
   ]
  },
  {
   "cell_type": "code",
   "execution_count": 7,
   "metadata": {},
   "outputs": [],
   "source": [
    "def f_timestamps_info(ts_list_o, ts_list_d):\n",
    "    dictionary = {'first_o':ts_list_o[0], 'last_o' : ts_list_o[-1],'qty_o' : len(ts_list_o),\n",
    "                  'first_d':ts_list_d[0], 'last_d' : ts_list_d[-1],'qty_d' : len(ts_list_d),\n",
    "                  'exact_match':len(set(ts_list_o) & set(ts_list_d))} \n",
    "    return dictionary"
   ]
  },
  {
   "cell_type": "code",
   "execution_count": 8,
   "metadata": {},
   "outputs": [
    {
     "data": {
      "text/plain": [
       "{'first_o': '2021-07-05T13:06:46.571Z',\n",
       " 'last_o': '2021-07-05T14:06:49.417Z',\n",
       " 'qty_o': 3602,\n",
       " 'first_d': '2021-07-05T13:06:46.571Z',\n",
       " 'last_d': '2021-07-05T14:06:49.417Z',\n",
       " 'qty_d': 3602,\n",
       " 'exact_match': 3602}"
      ]
     },
     "execution_count": 8,
     "metadata": {},
     "output_type": "execute_result"
    }
   ],
   "source": [
    "f_timestamps_info(ts_list_o=bitfinex_ts, ts_list_d=kraken_ts)"
   ]
  },
  {
   "cell_type": "code",
   "execution_count": 9,
   "metadata": {},
   "outputs": [],
   "source": [
    "q1_results = fn.f_compare_ts(ts_list_o=bitfinex_ts, ts_list_d=kraken_ts)"
   ]
  },
  {
   "cell_type": "markdown",
   "metadata": {},
   "source": [
    "To practice the use of *display* function on jupyter notebooks, you should delivery the exact same result"
   ]
  },
  {
   "cell_type": "code",
   "execution_count": 10,
   "metadata": {},
   "outputs": [
    {
     "data": {
      "text/plain": [
       "['2021-07-05T13:06:46.571Z',\n",
       " '2021-07-05T13:06:47.918Z',\n",
       " '2021-07-05T13:06:49.414Z',\n",
       " '2021-07-05T13:06:51.077Z']"
      ]
     },
     "metadata": {},
     "output_type": "display_data"
    },
    {
     "data": {
      "text/plain": [
       "['2021-07-05T13:06:46.571Z',\n",
       " '2021-07-05T13:06:47.918Z',\n",
       " '2021-07-05T13:06:49.414Z',\n",
       " '2021-07-05T13:06:51.077Z']"
      ]
     },
     "metadata": {},
     "output_type": "display_data"
    }
   ],
   "source": [
    "display(bitfinex_ts[0:4])\n",
    "display(kraken_ts[0:4])"
   ]
  },
  {
   "cell_type": "markdown",
   "metadata": {},
   "source": [
    "From now and on for the purpose of this lab, we are going to use only the information of one exchange, and also we are going to have the following order of columns (it is just a convention) 'bid_size', 'bid', 'ask' and 'ask_size'"
   ]
  },
  {
   "cell_type": "code",
   "execution_count": 11,
   "metadata": {},
   "outputs": [],
   "source": [
    "ob_data = orderbooks_data['kraken']"
   ]
  },
  {
   "cell_type": "markdown",
   "metadata": {},
   "source": [
    "## <font color= #6B6B6B> Q2 : Can you get only the keys with not *None* values ? (2pt) </font>\n",
    "<hr style=\"border:0.02in solid gray\"> </hr>"
   ]
  },
  {
   "cell_type": "markdown",
   "metadata": {},
   "source": [
    "There exists a posibility of having *None* or empty values for any timestamp contained in the data set, so for the next sections on this lab we need to use the keys of the dict with *not None* values.\n",
    "\n",
    "Next incllude your code that generates the output that is showed."
   ]
  },
  {
   "cell_type": "code",
   "execution_count": 12,
   "metadata": {},
   "outputs": [
    {
     "name": "stdout",
     "output_type": "stream",
     "text": [
      "Number of historical Kraken orderbooks:\n",
      "\n",
      "Before dropping Nones:  3602\n",
      "\n",
      "After dropping Nones:  1201\n"
     ]
    }
   ],
   "source": [
    "print('Number of historical Kraken orderbooks:')\n",
    "print('')\n",
    "print('Before dropping Nones: ',len(ob_data))\n",
    "print('')\n",
    "print('After dropping Nones: ',pd.DataFrame(ob_data).dropna(axis = 1).shape[1])"
   ]
  },
  {
   "cell_type": "markdown",
   "metadata": {},
   "source": [
    "Lets see the first timestamp from where we do have data"
   ]
  },
  {
   "cell_type": "code",
   "execution_count": 13,
   "metadata": {},
   "outputs": [
    {
     "data": {
      "text/plain": [
       "'First timestamp: 2021-07-05T13:06:46.571Z'"
      ]
     },
     "metadata": {},
     "output_type": "display_data"
    },
    {
     "name": "stdout",
     "output_type": "stream",
     "text": [
      "\n"
     ]
    },
    {
     "data": {
      "text/plain": [
       "'The Orderbook data is the following:'"
      ]
     },
     "metadata": {},
     "output_type": "display_data"
    },
    {
     "name": "stdout",
     "output_type": "stream",
     "text": [
      "\n"
     ]
    },
    {
     "data": {
      "text/html": [
       "<div>\n",
       "<style scoped>\n",
       "    .dataframe tbody tr th:only-of-type {\n",
       "        vertical-align: middle;\n",
       "    }\n",
       "\n",
       "    .dataframe tbody tr th {\n",
       "        vertical-align: top;\n",
       "    }\n",
       "\n",
       "    .dataframe thead th {\n",
       "        text-align: right;\n",
       "    }\n",
       "</style>\n",
       "<table border=\"1\" class=\"dataframe\">\n",
       "  <thead>\n",
       "    <tr style=\"text-align: right;\">\n",
       "      <th></th>\n",
       "    </tr>\n",
       "  </thead>\n",
       "  <tbody>\n",
       "  </tbody>\n",
       "</table>\n",
       "</div>"
      ],
      "text/plain": [
       "Empty DataFrame\n",
       "Columns: []\n",
       "Index: []"
      ]
     },
     "metadata": {},
     "output_type": "display_data"
    }
   ],
   "source": [
    "display('First timestamp: ' + list(ob_data.keys())[0])\n",
    "print('')\n",
    "display('The Orderbook data is the following:')\n",
    "print('')\n",
    "display(pd.DataFrame(ob_data[list(ob_data.keys())[0]]))"
   ]
  },
  {
   "cell_type": "markdown",
   "metadata": {},
   "source": [
    "... And what about the last timestamp we have data from?"
   ]
  },
  {
   "cell_type": "code",
   "execution_count": 14,
   "metadata": {},
   "outputs": [
    {
     "data": {
      "text/plain": [
       "'Last timestamp: 2021-07-05T14:06:49.417Z'"
      ]
     },
     "metadata": {},
     "output_type": "display_data"
    },
    {
     "name": "stdout",
     "output_type": "stream",
     "text": [
      "\n"
     ]
    },
    {
     "data": {
      "text/plain": [
       "'The Orderbook data is the following:'"
      ]
     },
     "metadata": {},
     "output_type": "display_data"
    },
    {
     "name": "stdout",
     "output_type": "stream",
     "text": [
      "\n"
     ]
    },
    {
     "data": {
      "text/html": [
       "<div>\n",
       "<style scoped>\n",
       "    .dataframe tbody tr th:only-of-type {\n",
       "        vertical-align: middle;\n",
       "    }\n",
       "\n",
       "    .dataframe tbody tr th {\n",
       "        vertical-align: top;\n",
       "    }\n",
       "\n",
       "    .dataframe thead th {\n",
       "        text-align: right;\n",
       "    }\n",
       "</style>\n",
       "<table border=\"1\" class=\"dataframe\">\n",
       "  <thead>\n",
       "    <tr style=\"text-align: right;\">\n",
       "      <th></th>\n",
       "      <th>ask_size</th>\n",
       "      <th>ask</th>\n",
       "      <th>bid</th>\n",
       "      <th>bid_size</th>\n",
       "    </tr>\n",
       "  </thead>\n",
       "  <tbody>\n",
       "    <tr>\n",
       "      <th>0</th>\n",
       "      <td>0.810</td>\n",
       "      <td>28396.9</td>\n",
       "      <td>28396.8</td>\n",
       "      <td>0.001</td>\n",
       "    </tr>\n",
       "    <tr>\n",
       "      <th>1</th>\n",
       "      <td>0.743</td>\n",
       "      <td>28397.9</td>\n",
       "      <td>28389.7</td>\n",
       "      <td>0.016</td>\n",
       "    </tr>\n",
       "    <tr>\n",
       "      <th>2</th>\n",
       "      <td>0.005</td>\n",
       "      <td>28400.9</td>\n",
       "      <td>28389.3</td>\n",
       "      <td>0.165</td>\n",
       "    </tr>\n",
       "    <tr>\n",
       "      <th>3</th>\n",
       "      <td>0.190</td>\n",
       "      <td>28402.7</td>\n",
       "      <td>28388.1</td>\n",
       "      <td>0.001</td>\n",
       "    </tr>\n",
       "    <tr>\n",
       "      <th>4</th>\n",
       "      <td>0.002</td>\n",
       "      <td>28402.9</td>\n",
       "      <td>28386.8</td>\n",
       "      <td>0.550</td>\n",
       "    </tr>\n",
       "    <tr>\n",
       "      <th>...</th>\n",
       "      <td>...</td>\n",
       "      <td>...</td>\n",
       "      <td>...</td>\n",
       "      <td>...</td>\n",
       "    </tr>\n",
       "    <tr>\n",
       "      <th>95</th>\n",
       "      <td>0.113</td>\n",
       "      <td>28512.9</td>\n",
       "      <td>28286.4</td>\n",
       "      <td>3.886</td>\n",
       "    </tr>\n",
       "    <tr>\n",
       "      <th>96</th>\n",
       "      <td>0.063</td>\n",
       "      <td>28513.1</td>\n",
       "      <td>28282.4</td>\n",
       "      <td>9.627</td>\n",
       "    </tr>\n",
       "    <tr>\n",
       "      <th>97</th>\n",
       "      <td>3.117</td>\n",
       "      <td>28514.2</td>\n",
       "      <td>28279.9</td>\n",
       "      <td>3.693</td>\n",
       "    </tr>\n",
       "    <tr>\n",
       "      <th>98</th>\n",
       "      <td>3.000</td>\n",
       "      <td>28517.0</td>\n",
       "      <td>28279.8</td>\n",
       "      <td>0.001</td>\n",
       "    </tr>\n",
       "    <tr>\n",
       "      <th>99</th>\n",
       "      <td>0.001</td>\n",
       "      <td>28517.6</td>\n",
       "      <td>28279.6</td>\n",
       "      <td>4.396</td>\n",
       "    </tr>\n",
       "  </tbody>\n",
       "</table>\n",
       "<p>100 rows × 4 columns</p>\n",
       "</div>"
      ],
      "text/plain": [
       "    ask_size      ask      bid  bid_size\n",
       "0      0.810  28396.9  28396.8     0.001\n",
       "1      0.743  28397.9  28389.7     0.016\n",
       "2      0.005  28400.9  28389.3     0.165\n",
       "3      0.190  28402.7  28388.1     0.001\n",
       "4      0.002  28402.9  28386.8     0.550\n",
       "..       ...      ...      ...       ...\n",
       "95     0.113  28512.9  28286.4     3.886\n",
       "96     0.063  28513.1  28282.4     9.627\n",
       "97     3.117  28514.2  28279.9     3.693\n",
       "98     3.000  28517.0  28279.8     0.001\n",
       "99     0.001  28517.6  28279.6     4.396\n",
       "\n",
       "[100 rows x 4 columns]"
      ]
     },
     "metadata": {},
     "output_type": "display_data"
    }
   ],
   "source": [
    "display('Last timestamp: ' + list(ob_data.keys())[-1])\n",
    "print('')\n",
    "display('The Orderbook data is the following:')\n",
    "print('')\n",
    "display(pd.DataFrame(ob_data[list(ob_data.keys())[-1]]))"
   ]
  },
  {
   "cell_type": "markdown",
   "metadata": {},
   "source": [
    "All right, looks good. We just need to switch the columns in order as its more often used in industry. After that, we should make a plot to have a different visual representation of that data, lets use *plotly*"
   ]
  },
  {
   "cell_type": "code",
   "execution_count": 15,
   "metadata": {},
   "outputs": [
    {
     "ename": "KeyError",
     "evalue": "\"None of [Index(['bid_size', 'bid', 'ask', 'ask_size'], dtype='object')] are in the [columns]\"",
     "output_type": "error",
     "traceback": [
      "\u001b[1;31m---------------------------------------------------------------------------\u001b[0m",
      "\u001b[1;31mKeyError\u001b[0m                                  Traceback (most recent call last)",
      "Cell \u001b[1;32mIn[15], line 1\u001b[0m\n\u001b[1;32m----> 1\u001b[0m ob_data \u001b[38;5;241m=\u001b[39m {orderbook: pd\u001b[38;5;241m.\u001b[39mDataFrame(ob_data[orderbook])[[\u001b[38;5;124m'\u001b[39m\u001b[38;5;124mbid_size\u001b[39m\u001b[38;5;124m'\u001b[39m, \u001b[38;5;124m'\u001b[39m\u001b[38;5;124mbid\u001b[39m\u001b[38;5;124m'\u001b[39m, \u001b[38;5;124m'\u001b[39m\u001b[38;5;124mask\u001b[39m\u001b[38;5;124m'\u001b[39m, \u001b[38;5;124m'\u001b[39m\u001b[38;5;124mask_size\u001b[39m\u001b[38;5;124m'\u001b[39m]]\n\u001b[0;32m      2\u001b[0m            \u001b[38;5;28;01mfor\u001b[39;00m orderbook \u001b[38;5;129;01min\u001b[39;00m \u001b[38;5;28mlist\u001b[39m(ob_data\u001b[38;5;241m.\u001b[39mkeys())}\n",
      "Cell \u001b[1;32mIn[15], line 1\u001b[0m, in \u001b[0;36m<dictcomp>\u001b[1;34m(.0)\u001b[0m\n\u001b[1;32m----> 1\u001b[0m ob_data \u001b[38;5;241m=\u001b[39m {orderbook: \u001b[43mpd\u001b[49m\u001b[38;5;241;43m.\u001b[39;49m\u001b[43mDataFrame\u001b[49m\u001b[43m(\u001b[49m\u001b[43mob_data\u001b[49m\u001b[43m[\u001b[49m\u001b[43morderbook\u001b[49m\u001b[43m]\u001b[49m\u001b[43m)\u001b[49m\u001b[43m[\u001b[49m\u001b[43m[\u001b[49m\u001b[38;5;124;43m'\u001b[39;49m\u001b[38;5;124;43mbid_size\u001b[39;49m\u001b[38;5;124;43m'\u001b[39;49m\u001b[43m,\u001b[49m\u001b[43m \u001b[49m\u001b[38;5;124;43m'\u001b[39;49m\u001b[38;5;124;43mbid\u001b[39;49m\u001b[38;5;124;43m'\u001b[39;49m\u001b[43m,\u001b[49m\u001b[43m \u001b[49m\u001b[38;5;124;43m'\u001b[39;49m\u001b[38;5;124;43mask\u001b[39;49m\u001b[38;5;124;43m'\u001b[39;49m\u001b[43m,\u001b[49m\u001b[43m \u001b[49m\u001b[38;5;124;43m'\u001b[39;49m\u001b[38;5;124;43mask_size\u001b[39;49m\u001b[38;5;124;43m'\u001b[39;49m\u001b[43m]\u001b[49m\u001b[43m]\u001b[49m\n\u001b[0;32m      2\u001b[0m            \u001b[38;5;28;01mfor\u001b[39;00m orderbook \u001b[38;5;129;01min\u001b[39;00m \u001b[38;5;28mlist\u001b[39m(ob_data\u001b[38;5;241m.\u001b[39mkeys())}\n",
      "File \u001b[1;32m~\\anaconda3\\lib\\site-packages\\pandas\\core\\frame.py:3813\u001b[0m, in \u001b[0;36mDataFrame.__getitem__\u001b[1;34m(self, key)\u001b[0m\n\u001b[0;32m   3811\u001b[0m     \u001b[38;5;28;01mif\u001b[39;00m is_iterator(key):\n\u001b[0;32m   3812\u001b[0m         key \u001b[38;5;241m=\u001b[39m \u001b[38;5;28mlist\u001b[39m(key)\n\u001b[1;32m-> 3813\u001b[0m     indexer \u001b[38;5;241m=\u001b[39m \u001b[38;5;28;43mself\u001b[39;49m\u001b[38;5;241;43m.\u001b[39;49m\u001b[43mcolumns\u001b[49m\u001b[38;5;241;43m.\u001b[39;49m\u001b[43m_get_indexer_strict\u001b[49m\u001b[43m(\u001b[49m\u001b[43mkey\u001b[49m\u001b[43m,\u001b[49m\u001b[43m \u001b[49m\u001b[38;5;124;43m\"\u001b[39;49m\u001b[38;5;124;43mcolumns\u001b[39;49m\u001b[38;5;124;43m\"\u001b[39;49m\u001b[43m)\u001b[49m[\u001b[38;5;241m1\u001b[39m]\n\u001b[0;32m   3815\u001b[0m \u001b[38;5;66;03m# take() does not accept boolean indexers\u001b[39;00m\n\u001b[0;32m   3816\u001b[0m \u001b[38;5;28;01mif\u001b[39;00m \u001b[38;5;28mgetattr\u001b[39m(indexer, \u001b[38;5;124m\"\u001b[39m\u001b[38;5;124mdtype\u001b[39m\u001b[38;5;124m\"\u001b[39m, \u001b[38;5;28;01mNone\u001b[39;00m) \u001b[38;5;241m==\u001b[39m \u001b[38;5;28mbool\u001b[39m:\n",
      "File \u001b[1;32m~\\anaconda3\\lib\\site-packages\\pandas\\core\\indexes\\base.py:6070\u001b[0m, in \u001b[0;36mIndex._get_indexer_strict\u001b[1;34m(self, key, axis_name)\u001b[0m\n\u001b[0;32m   6067\u001b[0m \u001b[38;5;28;01melse\u001b[39;00m:\n\u001b[0;32m   6068\u001b[0m     keyarr, indexer, new_indexer \u001b[38;5;241m=\u001b[39m \u001b[38;5;28mself\u001b[39m\u001b[38;5;241m.\u001b[39m_reindex_non_unique(keyarr)\n\u001b[1;32m-> 6070\u001b[0m \u001b[38;5;28;43mself\u001b[39;49m\u001b[38;5;241;43m.\u001b[39;49m\u001b[43m_raise_if_missing\u001b[49m\u001b[43m(\u001b[49m\u001b[43mkeyarr\u001b[49m\u001b[43m,\u001b[49m\u001b[43m \u001b[49m\u001b[43mindexer\u001b[49m\u001b[43m,\u001b[49m\u001b[43m \u001b[49m\u001b[43maxis_name\u001b[49m\u001b[43m)\u001b[49m\n\u001b[0;32m   6072\u001b[0m keyarr \u001b[38;5;241m=\u001b[39m \u001b[38;5;28mself\u001b[39m\u001b[38;5;241m.\u001b[39mtake(indexer)\n\u001b[0;32m   6073\u001b[0m \u001b[38;5;28;01mif\u001b[39;00m \u001b[38;5;28misinstance\u001b[39m(key, Index):\n\u001b[0;32m   6074\u001b[0m     \u001b[38;5;66;03m# GH 42790 - Preserve name from an Index\u001b[39;00m\n",
      "File \u001b[1;32m~\\anaconda3\\lib\\site-packages\\pandas\\core\\indexes\\base.py:6130\u001b[0m, in \u001b[0;36mIndex._raise_if_missing\u001b[1;34m(self, key, indexer, axis_name)\u001b[0m\n\u001b[0;32m   6128\u001b[0m     \u001b[38;5;28;01mif\u001b[39;00m use_interval_msg:\n\u001b[0;32m   6129\u001b[0m         key \u001b[38;5;241m=\u001b[39m \u001b[38;5;28mlist\u001b[39m(key)\n\u001b[1;32m-> 6130\u001b[0m     \u001b[38;5;28;01mraise\u001b[39;00m \u001b[38;5;167;01mKeyError\u001b[39;00m(\u001b[38;5;124mf\u001b[39m\u001b[38;5;124m\"\u001b[39m\u001b[38;5;124mNone of [\u001b[39m\u001b[38;5;132;01m{\u001b[39;00mkey\u001b[38;5;132;01m}\u001b[39;00m\u001b[38;5;124m] are in the [\u001b[39m\u001b[38;5;132;01m{\u001b[39;00maxis_name\u001b[38;5;132;01m}\u001b[39;00m\u001b[38;5;124m]\u001b[39m\u001b[38;5;124m\"\u001b[39m)\n\u001b[0;32m   6132\u001b[0m not_found \u001b[38;5;241m=\u001b[39m \u001b[38;5;28mlist\u001b[39m(ensure_index(key)[missing_mask\u001b[38;5;241m.\u001b[39mnonzero()[\u001b[38;5;241m0\u001b[39m]]\u001b[38;5;241m.\u001b[39munique())\n\u001b[0;32m   6133\u001b[0m \u001b[38;5;28;01mraise\u001b[39;00m \u001b[38;5;167;01mKeyError\u001b[39;00m(\u001b[38;5;124mf\u001b[39m\u001b[38;5;124m\"\u001b[39m\u001b[38;5;132;01m{\u001b[39;00mnot_found\u001b[38;5;132;01m}\u001b[39;00m\u001b[38;5;124m not in index\u001b[39m\u001b[38;5;124m\"\u001b[39m)\n",
      "\u001b[1;31mKeyError\u001b[0m: \"None of [Index(['bid_size', 'bid', 'ask', 'ask_size'], dtype='object')] are in the [columns]\""
     ]
    }
   ],
   "source": [
    "ob_data = {orderbook: pd.DataFrame(ob_data[orderbook])[['bid_size', 'bid', 'ask', 'ask_size']]\n",
    "           for orderbook in list(ob_data.keys())}"
   ]
  },
  {
   "cell_type": "code",
   "execution_count": null,
   "metadata": {},
   "outputs": [],
   "source": [
    "ob_data[list(ob_data.keys())[0]]"
   ]
  },
  {
   "cell_type": "markdown",
   "metadata": {},
   "source": [
    "## <font color= #6B6B6B> Q3 : Make a horizontal barplot for the Orderbook representation (4pt) </font>\n",
    "<hr style=\"border:0.02in solid gray\"> </hr>"
   ]
  },
  {
   "cell_type": "markdown",
   "metadata": {},
   "source": [
    "Inside the visualizations.py file, there is a function named *plot_orderbook* with input parameteres *ob_data_plot*, using that function, you need to first select the day that had the highest total volume in the orderbook, and then use it to plot the first 20 levels for Bid side and first 20 levels for Ask side.\n",
    "\n",
    "Note: If you find more than 1 timestamp with the exact same volume, use the one that is closest to the present."
   ]
  },
  {
   "cell_type": "code",
   "execution_count": null,
   "metadata": {},
   "outputs": [],
   "source": [
    "ob_clean = pd.DataFrame(ob_data).dropna(axis = 1).transpose()\n",
    "bid_volume = ob_clean['bid_size'].apply(lambda x: pd.Series(x).sum())\n",
    "ask_volume = ob_clean['ask_size'].apply(lambda x: pd.Series(x).sum())\n",
    "day = (bid_volume + ask_volume).sort_values(ascending = False).index[0]\n",
    "ob_data_plot = pd.DataFrame([pd.DataFrame(ob_clean.loc[day]).loc[x][0].values() for x in pd.DataFrame(ob_clean.loc[day]).index.values],\n",
    "             index = pd.DataFrame(ob_clean.loc[day]).index.values).transpose().iloc[:20]\n",
    "ob_data_plot"
   ]
  },
  {
   "cell_type": "code",
   "execution_count": null,
   "metadata": {},
   "outputs": [],
   "source": [
    "# Delete this comment and place your code here in this cell"
   ]
  },
  {
   "cell_type": "code",
   "execution_count": null,
   "metadata": {},
   "outputs": [],
   "source": [
    "ob_data_plot.head()"
   ]
  },
  {
   "cell_type": "code",
   "execution_count": null,
   "metadata": {},
   "outputs": [],
   "source": [
    "plot_ob = vs.plot_ob(ob_data_plot=ob_data_plot, \n",
    "                     main_title='Orderbook Timestamp: ' + ob_keys[max_vol_ts])\n",
    "plot_ob.show()"
   ]
  },
  {
   "cell_type": "markdown",
   "metadata": {},
   "source": [
    "## <font color= #6B6B6B> Q4 : Can you calculate the historical bid, ask and spread ? (2pt) </font>\n",
    "<hr style=\"border:0.02in solid gray\"> </hr>"
   ]
  },
  {
   "cell_type": "markdown",
   "metadata": {},
   "source": [
    "Now we need to calculate the historical bid, ask and spread. That means to calculate them using the Top of the Book, i.e. using only the best bid, the bes ask. So, it turns out we need to iterate over all orderbook data we have and calculate those values.\n",
    "\n",
    "So, create a DataFrame, *df_ts_tob* with the following contents:"
   ]
  },
  {
   "cell_type": "code",
   "execution_count": null,
   "metadata": {},
   "outputs": [],
   "source": [
    "# ob_data\n",
    "ob_data_2 = ob_clean[['ask','bid','spread']].transpose()\n",
    "for row in ob_data_2.index.values:\n",
    "    ob_data_2.loc[row] = ob_data_2.loc[row].apply(lambda x: x['0'])\n",
    "ob_data_2 = ob_data_2.transpose().reset_index().rename(columns = {'index':'timestamp'})\n",
    "ob_data_2"
   ]
  },
  {
   "cell_type": "code",
   "execution_count": null,
   "metadata": {},
   "outputs": [],
   "source": [
    "# Delete this comment and place your code here in this cell"
   ]
  },
  {
   "cell_type": "markdown",
   "metadata": {
    "tags": []
   },
   "source": [
    "## <font color= #6B6B6B> Q5 : Display the timestamps above a particular spread value (2pt) </font>\n",
    "<hr style=\"border:0.02in solid gray\"> </hr>"
   ]
  },
  {
   "cell_type": "markdown",
   "metadata": {},
   "source": [
    "In order to see some interesting time periods, lets see if we can find the timestamps where spread was above to 8.0 Usd."
   ]
  },
  {
   "cell_type": "code",
   "execution_count": null,
   "metadata": {},
   "outputs": [],
   "source": [
    "ob_data_2[ob_data_2['spread'] >= 8]"
   ]
  },
  {
   "cell_type": "code",
   "execution_count": null,
   "metadata": {
    "tags": []
   },
   "outputs": [],
   "source": [
    "# Delete this comment and place your code here in this cell"
   ]
  },
  {
   "cell_type": "markdown",
   "metadata": {
    "tags": []
   },
   "source": [
    "## <font color= #6B6B6B> Q6 : Create a timeseries plot with bid and ask (Line plot) (2pt) </font>\n",
    "<hr style=\"border:0.02in solid gray\"> </hr>"
   ]
  },
  {
   "cell_type": "markdown",
   "metadata": {},
   "source": [
    "Lets visualize how the bid and the ask have been in the whole time series data we have. You have to create a time series plot, using plotly, exactly like this one:"
   ]
  },
  {
   "cell_type": "code",
   "execution_count": null,
   "metadata": {},
   "outputs": [],
   "source": [
    "# Delete this comment and place your code here in this cell\n",
    "\n",
    "plot_2 = vs.plot_line_ts(ts_line_plot=df_ts_tob)\n",
    "plot_2.show()"
   ]
  },
  {
   "cell_type": "markdown",
   "metadata": {
    "tags": []
   },
   "source": [
    "## <font color= #6B6B6B> Q7 : Create a boxplot graph with Spreads (5pt) </font>\n",
    "<hr style=\"border:0.02in solid gray\"> </hr>"
   ]
  },
  {
   "cell_type": "markdown",
   "metadata": {},
   "source": [
    "We will need to see the spread in time batches, so, lets see if you can split the data into hours and create a boxplot for every group, like the following:"
   ]
  },
  {
   "cell_type": "code",
   "execution_count": null,
   "metadata": {},
   "outputs": [],
   "source": [
    "df_ts_tob['spread'].describe()"
   ]
  },
  {
   "cell_type": "markdown",
   "metadata": {},
   "source": [
    "Hint: You will need to have the timestamp converted to only minutes, and use these two parameters when calling the plotly function: \n",
    "- boxpoints='outliers'   # can also be outliers, or suspectedoutliers, or False´\n",
    "- jitter=0.1             # add some jitter for a better separation between points"
   ]
  },
  {
   "cell_type": "code",
   "execution_count": null,
   "metadata": {},
   "outputs": [],
   "source": [
    "# Delete this comment and place your code here in this cell\n",
    "\n",
    "plot_3 = vs.plot_bar_ts(ts_bar_plot=df_ts_tob, main_title=None)\n",
    "plot_3.show()"
   ]
  },
  {
   "cell_type": "markdown",
   "metadata": {},
   "source": [
    "## <font color= #6B6B6B> Q8 : Create Orderbook Imbalance Metric for all Orderbooks (2pt) </font>\n",
    "<hr style=\"border:0.02in solid gray\"> </hr>"
   ]
  },
  {
   "cell_type": "markdown",
   "metadata": {},
   "source": [
    "For the following calculations, you can use your own way and commands to create the code for those, yet, there are some suggestions for using numpy arrays. Feel free to focus on the levels of engineering development as mentioned in class, assign this priority level: 1) It works, 2) Its efficient, 3) Its elegant."
   ]
  },
  {
   "cell_type": "markdown",
   "metadata": {},
   "source": [
    "Orderbook Imbalance\n",
    "\n",
    "Using only the Top of the Book (TOB) information, which means, only the Bid and Ask volumes. Or, more than 1 level up to a  level as depth selection for each side"
   ]
  },
  {
   "cell_type": "markdown",
   "metadata": {},
   "source": [
    "\\begin{equation}\n",
    "{I}^{TOB}_{t} = \\frac{V^{b}_{t}}{V^{b}_{t} + V^{a}_{t}} \\quad , \\quad I^{LOB}_{t} = \\frac{\\sum_{b=1}^{B} V^{b}_{t}}{\\sum_{b=1}^{B} V^{b}_{t} + \\sum_{a=1}^{A} V^{a}_{t}}\n",
    "\\end{equation}"
   ]
  },
  {
   "cell_type": "code",
   "execution_count": null,
   "metadata": {},
   "outputs": [],
   "source": [
    "# OrderBook Imbalance (v: volume, d: depth)\n",
    "# v[0] Bid volume, v[1] Ask volume\n",
    "imbalance = lambda v, d : np.sum(v[0][:d])/np.sum([v[0][:d], v[1][:d]])"
   ]
  },
  {
   "cell_type": "code",
   "execution_count": null,
   "metadata": {},
   "outputs": [],
   "source": [
    "# Delete this comment and place your code here in this cell"
   ]
  },
  {
   "cell_type": "markdown",
   "metadata": {},
   "source": [
    "## <font color= #6B6B6B> Q9 : Create Spread Metric for all Orderbooks (2pt) </font>\n",
    "<hr style=\"border:0.02in solid gray\"> </hr>"
   ]
  },
  {
   "cell_type": "markdown",
   "metadata": {},
   "source": [
    "Spread\n",
    "\n",
    "Also known as Quote Spread, the most commonly used spread definition and the one we use predominantly in our systems."
   ]
  },
  {
   "cell_type": "markdown",
   "metadata": {},
   "source": [
    "\\begin{equation}\n",
    "Qs_{t} = P^{a}_{t} - P^{b}_{t}\n",
    "\\end{equation}"
   ]
  },
  {
   "cell_type": "code",
   "execution_count": null,
   "metadata": {},
   "outputs": [],
   "source": [
    "import sys\n",
    "import os"
   ]
  },
  {
   "cell_type": "code",
   "execution_count": null,
   "metadata": {},
   "outputs": [],
   "source": [
    "project_folder = os.path.abspath('')\n",
    "sys.path.insert(0,project_folder)"
   ]
  },
  {
   "cell_type": "code",
   "execution_count": null,
   "metadata": {},
   "outputs": [],
   "source": [
    "import functions as fs"
   ]
  },
  {
   "cell_type": "code",
   "execution_count": null,
   "metadata": {},
   "outputs": [],
   "source": [
    "fs.f_compare_ts"
   ]
  },
  {
   "cell_type": "code",
   "execution_count": null,
   "metadata": {},
   "outputs": [],
   "source": [
    "# OrderBook Spread (p: price)\n",
    "# p[1] Ask price, p[0] Bid price\n",
    "spread = lambda p: (p[1] - p[0])"
   ]
  },
  {
   "cell_type": "code",
   "execution_count": null,
   "metadata": {},
   "outputs": [],
   "source": [
    "pd.DataFrame(ob_data).loc['ask']"
   ]
  },
  {
   "cell_type": "code",
   "execution_count": null,
   "metadata": {},
   "outputs": [],
   "source": [
    "# Delete this comment and place your code here in this cell"
   ]
  },
  {
   "cell_type": "markdown",
   "metadata": {},
   "source": [
    "## <font color= #6B6B6B> Q10 : Create Midprice Metric for all Orderbooks (2pt) </font>\n",
    "<hr style=\"border:0.02in solid gray\"> </hr>"
   ]
  },
  {
   "cell_type": "markdown",
   "metadata": {},
   "source": [
    "Midprice \n",
    "\n",
    "Also known as Arithmetic Midprice, the most commonly used formula and the one that is present in our systems."
   ]
  },
  {
   "cell_type": "markdown",
   "metadata": {},
   "source": [
    "\\begin{equation}\n",
    "M_{t} = \\frac{1}{2} (P^{a}_{t} + P^{b}_{t})\n",
    "\\end{equation}"
   ]
  },
  {
   "cell_type": "code",
   "execution_count": null,
   "metadata": {},
   "outputs": [],
   "source": [
    "# Midprice (p: price)\n",
    "# p[0]: Bid price, p[1]: Ask price\n",
    "midprice = lambda p: (p[0] + p[1])*0.5"
   ]
  },
  {
   "cell_type": "code",
   "execution_count": null,
   "metadata": {},
   "outputs": [],
   "source": [
    "info = pd.DataFrame(ob_data).loc[['bid','ask']]\n",
    "info.loc['bid']"
   ]
  },
  {
   "cell_type": "code",
   "execution_count": null,
   "metadata": {},
   "outputs": [],
   "source": [
    "pd.DataFrame(info.loc['ask']).iloc[0].values[0]['0']"
   ]
  },
  {
   "cell_type": "code",
   "execution_count": null,
   "metadata": {},
   "outputs": [],
   "source": [
    "# Delete this comment and place your code here in this cell"
   ]
  },
  {
   "cell_type": "markdown",
   "metadata": {},
   "source": [
    "## <font color= #6B6B6B> Q11 : Create Weighted Midprice Metric for all Orderbooks (2pt) </font>\n",
    "<hr style=\"border:0.02in solid gray\"> </hr>"
   ]
  },
  {
   "cell_type": "markdown",
   "metadata": {},
   "source": [
    "Weighted-Midprice\n",
    "\n",
    "It uses only the TOB prices and their corresponding volumes. It represents the weighted average of the Bid () and the Ask (), weighted by their relative volumes  and ."
   ]
  },
  {
   "cell_type": "markdown",
   "metadata": {},
   "source": [
    "\\begin{equation}\n",
    "M^{\\omega}_{t} = \\frac{V^{a}_{t}}{V^{b}_{t} + V^{a}_{t}} P^{b}_{t} + \\frac{V^{b}_{t}}{V^{b}_{t} + V^{a}_{t}} P^{a}_{t}\n",
    "\\end{equation}"
   ]
  },
  {
   "cell_type": "markdown",
   "metadata": {},
   "source": [
    "If there are a lot of Buyers (), then the Weighted-Midprice is pushed towards (since  will multiply  and divide ), the opposite effect for the case of having a lot of Sellers is also true. This indicates the Buy or Sell pressure in the market and thus the tendency of the price to move either towards the Bid or Ask side."
   ]
  },
  {
   "cell_type": "code",
   "execution_count": null,
   "metadata": {},
   "outputs": [],
   "source": [
    "# Delete this comment and place your code here in this cell"
   ]
  },
  {
   "cell_type": "markdown",
   "metadata": {},
   "source": [
    "## <font color= #6B6B6B> Q12 : Volume-Weighted Mid Price (4 pts)</font>\n",
    "<hr style=\"border:0.02in solid gray\"> </hr>"
   ]
  },
  {
   "cell_type": "markdown",
   "metadata": {},
   "source": [
    "VWAP \n",
    "\n",
    "This is an acronym for Volume Weighted Average Price and is the average price between Bids () and Asks (), weighted by the volumes in Bid () and Ask (), and doing this using  as the selected depth for each side."
   ]
  },
  {
   "cell_type": "markdown",
   "metadata": {},
   "source": [
    "\\begin{equation}\n",
    "\\text{VWAP}^{(B, A)}_{t} = \\frac{\\sum_{b=1}^{B} [P^{b}_{t} * V^{b}_{t}]  + \\sum_{a=1}^{A} [ P^{a}_{t} * V^{a}_{t}]} {\\sum_{b=1}^{B} V^{b}_{t} + \\sum_{a=1}^{A} V^{a}_{t}}\n",
    "\\end{equation}"
   ]
  },
  {
   "cell_type": "code",
   "execution_count": null,
   "metadata": {},
   "outputs": [],
   "source": [
    "# ---- This is Hint\n",
    "\n",
    "# Weighted-Midprice (p: price, v: volume)\n",
    "# v[0] Bid volume, v[1] Ask volume\n",
    "\n",
    "# wmidprice = lambda p, v : (1)*(1) + (1/sum(1, 1))*(1)"
   ]
  },
  {
   "cell_type": "code",
   "execution_count": null,
   "metadata": {},
   "outputs": [],
   "source": [
    "# Delete this comment and place your code here in this cell"
   ]
  },
  {
   "cell_type": "markdown",
   "metadata": {},
   "source": [
    "# <font color= #6B6B6B> <font size = 6> References </font>\n",
    "<hr style=\"border:0.02in solid gray\"> </hr>"
   ]
  },
  {
   "cell_type": "markdown",
   "metadata": {},
   "source": [
    "[1] Munnoz, 2020. Python project template. https://github.com/iffranciscome/python-project. (2021)."
   ]
  },
  {
   "cell_type": "markdown",
   "metadata": {},
   "source": [
    "<br>"
   ]
  }
 ],
 "metadata": {
  "kernelspec": {
   "display_name": "Python 3 (ipykernel)",
   "language": "python",
   "name": "python3"
  },
  "language_info": {
   "codemirror_mode": {
    "name": "ipython",
    "version": 3
   },
   "file_extension": ".py",
   "mimetype": "text/x-python",
   "name": "python",
   "nbconvert_exporter": "python",
   "pygments_lexer": "ipython3",
   "version": "3.10.9"
  },
  "vscode": {
   "interpreter": {
    "hash": "1a1af0ee75eeea9e2e1ee996c87e7a2b11a0bebd85af04bb136d915cefc0abce"
   }
  }
 },
 "nbformat": 4,
 "nbformat_minor": 4
}
